{
 "cells": [
  {
   "cell_type": "markdown",
   "metadata": {},
   "source": [
    "- title: Using Jupyter Notebook with Pelican in Windows\n",
    "- author: Jianghao Chu\n",
    "- date: 2020-11-26\n",
    "- category: python\n",
    "- tags: Jupyter-Notebook, Pelican"
   ]
  },
  {
   "cell_type": "markdown",
   "metadata": {},
   "source": [
    "Update: This solution does not work with nbconvert >= 6. Tested on nbconvert == 5.6.1.\n",
    "\n",
    "[Jupyter-Pelican](https://github.com/danielfrg/pelican-jupyter) is a plugin that helps Pelican to generate static contents from Jupyter notebook. I like it because it allows the user to put the\n",
    "metadata in the first cell of the notebook. No need to create a separate file for the metadata or edit the metadata of the notebook. However, this option will encounter a permission denied error on Windows OS because Windows does not allow (at least easily) openning a temporary file for a second time, according to the documentation of [tempfile.NamedTemporaryFile](https://docs.python.org/3/library/tempfile.html#tempfile.NamedTemporaryFile). Other discussions on reading a temporary file in Windows can be found at [Python bug tracker](https://bugs.python.org/issue14243#msg164504) and [stackoverflow](https://stackoverflow.com/questions/15169101/how-to-create-a-temporary-file-that-can-be-read-by-a-subprocess).\n",
    "\n",
    "The [lines](https://github.com/danielfrg/pelican-jupyter/blob/183d01824788dcc5fe9320f746f9c8c62aa29999/pelican_jupyter/markup.py#L78-L82) causing the error are as below:\n",
    "```python\n",
    "with tempfile.NamedTemporaryFile(\"w+\", encoding=\"utf-8\") as metadata_file:\n",
    "    md_reader = MarkdownReader(self.settings)\n",
    "    metadata_file.write(metacell)\n",
    "    metadata_file.flush()\n",
    "    _content, metadata = md_reader.read(metadata_file.name)\n",
    "```\n",
    "Right now, there is no perfect fix. So I went ahead and changed the lines in my local library as below:\n",
    "```python\n",
    "metadata_file = tempfile.NamedTemporaryFile(\"w+\", encoding=\"utf-8\", delete=False)\n",
    "try:\n",
    "    md_reader = MarkdownReader(self.settings)\n",
    "    metadata_file.write(metacell)\n",
    "    metadata_file.flush()\n",
    "    metadata_file.close()\n",
    "    _content, metadata = md_reader.read(metadata_file.name)\n",
    "finally:\n",
    "    os.remove(metadata_file.name)\n",
    "```\n",
    "It's not an elegant solution but now everything works. I can have Jupyter notebook organize all my Markdown, LaTex, input and output while having Pelican generate the static site. Below are a few tests to see it works.\n",
    "\n",
    "#### Markdown\n",
    "I like Markdown.\n",
    "#### LaTex\n",
    "This is a try to use LaTeX in Markdown. Let us start with a simple linear model.\n",
    "$$y=\\beta_0+\\beta_1x_1+\\beta_2x_2+u$$"
   ]
  },
  {
   "cell_type": "code",
   "execution_count": 1,
   "metadata": {
    "scrolled": true
   },
   "outputs": [
    {
     "name": "stdout",
     "output_type": "stream",
     "text": [
      "Hello World!\n"
     ]
    }
   ],
   "source": [
    "print('Hello World!')"
   ]
  },
  {
   "cell_type": "code",
   "execution_count": 2,
   "metadata": {},
   "outputs": [
    {
     "name": "stdout",
     "output_type": "stream",
     "text": [
      "<class 'numpy.ndarray'>\n",
      "(3,)\n",
      "1 2 3\n",
      "[5 2 3]\n",
      "(2, 3)\n",
      "1 2 4\n"
     ]
    }
   ],
   "source": [
    "import numpy as np\n",
    "a = np.array([1, 2, 3])   # Create a rank 1 array\n",
    "print(type(a))            # Prints \"<class 'numpy.ndarray'>\"\n",
    "print(a.shape)            # Prints \"(3,)\"\n",
    "print(a[0], a[1], a[2])   # Prints \"1 2 3\"\n",
    "a[0] = 5                  # Change an element of the array\n",
    "print(a)                  # Prints \"[5, 2, 3]\"\n",
    "\n",
    "b = np.array([[1,2,3],[4,5,6]])    # Create a rank 2 array\n",
    "print(b.shape)                     # Prints \"(2, 3)\"\n",
    "print(b[0, 0], b[0, 1], b[1, 0])   # Prints \"1 2 4\""
   ]
  }
 ],
 "metadata": {
  "kernelspec": {
   "display_name": "Python 3",
   "language": "python",
   "name": "python3"
  },
  "language_info": {
   "codemirror_mode": {
    "name": "ipython",
    "version": 3
   },
   "file_extension": ".py",
   "mimetype": "text/x-python",
   "name": "python",
   "nbconvert_exporter": "python",
   "pygments_lexer": "ipython3",
   "version": "3.6.8"
  }
 },
 "nbformat": 4,
 "nbformat_minor": 2
}
