{
 "cells": [
  {
   "cell_type": "markdown",
   "metadata": {},
   "source": [
    "title: Version Control with Git (2): Comparing Differences\n",
    "date: 12-05-2020\n",
    "author: Jianghao Chu\n",
    "category: Git\n",
    "tags: Git"
   ]
  },
  {
   "cell_type": "markdown",
   "metadata": {},
   "source": [
    "### Comparing unstaged changes with staged version\n",
    "```shell\n",
    "git diff\n",
    "```\n",
    "\n",
    "### Comparing staged changes with last commit\n",
    "```shell\n",
    "git diff --staged|cached\n",
    "```\n",
    "\n",
    "### Comparing two files\n",
    "```shell\n",
    "git diff --no-index -- file1 file2\n",
    "```\n",
    "\n",
    "### Comparing between two branches\n",
    "```shell\n",
    "git diff branch1..branch2\n",
    "```\n",
    "\n",
    "### Comparing between two commits\n",
    "```shell\n",
    "git diff commit1 commit2\n",
    "```\n",
    "\n",
    "### Comparing a single file\n",
    "```shell\n",
    "git diff -- path\n",
    "```\n",
    "\n",
    "## Options\n",
    "```shell\n",
    "-p, --patch  # Generate patch\n",
    "```\n",
    "\n",
    "\n",
    "## GitHub\n",
    "pull request\n",
    "https:/github.com//username/repositoryname/compare/commit1..commit2\n",
    "\n",
    "two dots\n",
    "three dots"
   ]
  }
 ],
 "metadata": {
  "kernelspec": {
   "display_name": "Python 3",
   "language": "python",
   "name": "python3"
  },
  "language_info": {
   "codemirror_mode": {
    "name": "ipython",
    "version": 3
   },
   "file_extension": ".py",
   "mimetype": "text/x-python",
   "name": "python",
   "nbconvert_exporter": "python",
   "pygments_lexer": "ipython3",
   "version": "3.6.8"
  }
 },
 "nbformat": 4,
 "nbformat_minor": 2
}
